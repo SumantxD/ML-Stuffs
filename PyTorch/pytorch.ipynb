{
 "cells": [
  {
   "cell_type": "code",
   "execution_count": 1,
   "metadata": {
    "collapsed": true
   },
   "outputs": [],
   "source": [
    "import torch\n"
   ]
  },
  {
   "cell_type": "code",
   "execution_count": 2,
   "outputs": [
    {
     "data": {
      "text/plain": "'2.0.1+cu117'"
     },
     "execution_count": 2,
     "metadata": {},
     "output_type": "execute_result"
    }
   ],
   "source": [
    "torch.__version__"
   ],
   "metadata": {
    "collapsed": false
   }
  },
  {
   "cell_type": "code",
   "execution_count": 4,
   "outputs": [
    {
     "data": {
      "text/plain": "tensor([[2.4202e+01, 4.5553e-41, 8.2172e-34],\n        [0.0000e+00, 0.0000e+00, 0.0000e+00],\n        [0.0000e+00, 0.0000e+00, 0.0000e+00],\n        [2.6821e-26, 7.7052e+31, 7.2148e+22],\n        [1.5766e-19, 1.0256e-08, 4.2004e-05]])"
     },
     "execution_count": 4,
     "metadata": {},
     "output_type": "execute_result"
    }
   ],
   "source": [
    "x = torch.empty([5,3])\n",
    "x"
   ],
   "metadata": {
    "collapsed": false
   }
  },
  {
   "cell_type": "code",
   "execution_count": 5,
   "outputs": [
    {
     "data": {
      "text/plain": "tensor([[0.0000e+00, 0.0000e+00, 7.7052e+31],\n        [7.2148e+22, 1.5766e-19, 1.0256e-08],\n        [4.2004e-05, 3.1816e+12, 6.7736e-10],\n        [1.6692e-07, 4.3207e-05, 1.2962e+16],\n        [2.1707e-18, 7.0952e+22, 1.7748e+28]])"
     },
     "execution_count": 5,
     "metadata": {},
     "output_type": "execute_result"
    }
   ],
   "source": [
    "y = torch.empty(5,3)\n",
    "y"
   ],
   "metadata": {
    "collapsed": false
   }
  },
  {
   "cell_type": "code",
   "execution_count": 6,
   "outputs": [
    {
     "data": {
      "text/plain": "tensor([[0.1672, 0.3335, 0.2623, 0.4452],\n        [0.8190, 0.2806, 0.5880, 0.9062],\n        [0.4334, 0.7735, 0.8025, 0.0416],\n        [0.4169, 0.6597, 0.0905, 0.3503],\n        [0.1422, 0.9858, 0.2975, 0.4633]])"
     },
     "execution_count": 6,
     "metadata": {},
     "output_type": "execute_result"
    }
   ],
   "source": [
    "a = torch.rand(5,4)\n",
    "a"
   ],
   "metadata": {
    "collapsed": false
   }
  },
  {
   "cell_type": "code",
   "execution_count": 7,
   "outputs": [
    {
     "data": {
      "text/plain": "tensor([[0, 0, 0, 0],\n        [0, 0, 0, 0],\n        [0, 0, 0, 0],\n        [0, 0, 0, 0],\n        [0, 0, 0, 0]])"
     },
     "execution_count": 7,
     "metadata": {},
     "output_type": "execute_result"
    }
   ],
   "source": [
    "z = torch.zeros((5,4), dtype=torch.long)\n",
    "z"
   ],
   "metadata": {
    "collapsed": false
   }
  },
  {
   "cell_type": "code",
   "execution_count": 8,
   "outputs": [
    {
     "data": {
      "text/plain": "tensor([1, 2, 3])"
     },
     "execution_count": 8,
     "metadata": {},
     "output_type": "execute_result"
    }
   ],
   "source": [
    "b = torch.tensor([1,2,3])\n",
    "b"
   ],
   "metadata": {
    "collapsed": false
   }
  },
  {
   "cell_type": "code",
   "execution_count": 12,
   "outputs": [
    {
     "data": {
      "text/plain": "tensor([[-2.5253, -1.9676, -0.6383, -1.1611],\n        [-1.9770,  0.9374, -1.9958,  0.2015],\n        [ 0.4655, -0.1563, -0.5114, -2.1911],\n        [-1.6242, -0.8944,  0.5580, -0.4568],\n        [ 0.6802, -0.3347, -0.5762,  1.1474]], dtype=torch.float64)"
     },
     "execution_count": 12,
     "metadata": {},
     "output_type": "execute_result"
    }
   ],
   "source": [
    "c = torch.randn_like(z, dtype=torch.float64)\n",
    "c"
   ],
   "metadata": {
    "collapsed": false
   }
  },
  {
   "cell_type": "markdown",
   "source": [
    "# the value of the defined tensor can be changed in the following way"
   ],
   "metadata": {
    "collapsed": false
   }
  },
  {
   "cell_type": "code",
   "execution_count": 13,
   "outputs": [
    {
     "data": {
      "text/plain": "tensor([[1., 1., 1., 1., 1., 1.],\n        [1., 1., 1., 1., 1., 1.],\n        [1., 1., 1., 1., 1., 1.],\n        [1., 1., 1., 1., 1., 1.],\n        [1., 1., 1., 1., 1., 1.]], dtype=torch.float64)"
     },
     "execution_count": 13,
     "metadata": {},
     "output_type": "execute_result"
    }
   ],
   "source": [
    "c = c.new_ones(5,6, dtype = torch.double)\n",
    "c"
   ],
   "metadata": {
    "collapsed": false
   }
  },
  {
   "cell_type": "markdown",
   "source": [
    "# the shapr of the tensor can be found using the size function\n"
   ],
   "metadata": {
    "collapsed": false
   }
  },
  {
   "cell_type": "code",
   "execution_count": 14,
   "outputs": [
    {
     "name": "stdout",
     "output_type": "stream",
     "text": [
      "torch.Size([5, 6])\n"
     ]
    }
   ],
   "source": [
    "print(c.size())"
   ],
   "metadata": {
    "collapsed": false
   }
  },
  {
   "cell_type": "code",
   "execution_count": 15,
   "outputs": [
    {
     "data": {
      "text/plain": "tensor([[0.5784, 0.5149, 0.7025, 0.9634, 0.4591, 0.6317],\n        [0.3245, 0.3438, 0.0234, 0.9746, 0.6163, 0.1875],\n        [0.3454, 0.4032, 0.8773, 0.0272, 0.6316, 0.9132],\n        [0.1836, 0.7207, 0.5240, 0.1618, 0.0968, 0.2839],\n        [0.9689, 0.9574, 0.2970, 0.0683, 0.9662, 0.7217]], dtype=torch.float64)"
     },
     "execution_count": 15,
     "metadata": {},
     "output_type": "execute_result"
    }
   ],
   "source": [
    "d = torch.rand(5,6,dtype = torch.double)\n",
    "d"
   ],
   "metadata": {
    "collapsed": false
   }
  },
  {
   "cell_type": "code",
   "execution_count": 18,
   "outputs": [
    {
     "name": "stdout",
     "output_type": "stream",
     "text": [
      "tensor([[ 0.7729,  0.3256, -0.0435,  2.3830, -0.0806,  0.2288],\n",
      "        [ 0.4308,  0.4189,  0.7636,  2.7971, -0.0318,  1.2516],\n",
      "        [ 0.8287,  1.5061,  0.1967,  1.0386,  2.4447, -0.8434],\n",
      "        [ 1.2564, -0.4941,  1.0680, -1.3986, -0.2741,  0.5353],\n",
      "        [ 2.2765,  1.0223, -0.2058,  0.3535,  0.8520, -0.6003]],\n",
      "       dtype=torch.float64)\n"
     ]
    }
   ],
   "source": [
    "e = torch.randn(5,6, dtype=torch.float)\n",
    "print(d+e)"
   ],
   "metadata": {
    "collapsed": false
   }
  },
  {
   "cell_type": "markdown",
   "source": [
    "## the tensor.view() method is used to reshape teh tensor , it is similar to the reshape function in numpy , the -1 method is used so that we can automatically infer the dimensions"
   ],
   "metadata": {
    "collapsed": false
   }
  },
  {
   "cell_type": "code",
   "execution_count": 20,
   "outputs": [
    {
     "name": "stdout",
     "output_type": "stream",
     "text": [
      "tensor([[ 0.2024, -0.1482, -1.1744,  0.0259,  0.4702],\n",
      "        [ 0.6495, -1.6974,  1.2694,  0.5202, -0.6905],\n",
      "        [-0.1809,  0.7026, -0.8078, -2.2673, -0.1239],\n",
      "        [-0.1738, -0.3875, -0.3521,  0.3478,  2.0510]]) torch.Size([4, 5])\n",
      "tensor([ 0.2024, -0.1482, -1.1744,  0.0259,  0.4702,  0.6495, -1.6974,  1.2694,\n",
      "         0.5202, -0.6905, -0.1809,  0.7026, -0.8078, -2.2673, -0.1239, -0.1738,\n",
      "        -0.3875, -0.3521,  0.3478,  2.0510]) torch.Size([20])\n",
      "tensor([[[ 0.2024, -0.1482],\n",
      "         [-1.1744,  0.0259]],\n",
      "\n",
      "        [[ 0.4702,  0.6495],\n",
      "         [-1.6974,  1.2694]],\n",
      "\n",
      "        [[ 0.5202, -0.6905],\n",
      "         [-0.1809,  0.7026]],\n",
      "\n",
      "        [[-0.8078, -2.2673],\n",
      "         [-0.1239, -0.1738]],\n",
      "\n",
      "        [[-0.3875, -0.3521],\n",
      "         [ 0.3478,  2.0510]]]) torch.Size([5, 2, 2])\n"
     ]
    }
   ],
   "source": [
    "x = torch.randn(4,5)\n",
    "y = x.view(20)\n",
    "z = x.view(-1, 2, 2)\n",
    "print(x, x.size())\n",
    "print(y, y.size())\n",
    "print(z, z.size())"
   ],
   "metadata": {
    "collapsed": false
   }
  },
  {
   "cell_type": "markdown",
   "source": [
    "## to convert the torch tensor into numpy array the following method is used"
   ],
   "metadata": {
    "collapsed": false
   }
  },
  {
   "cell_type": "code",
   "execution_count": 21,
   "outputs": [
    {
     "name": "stdout",
     "output_type": "stream",
     "text": [
      "[[ 0.1944304  -0.18934357 -0.74602437  1.4195651  -0.5396932  -0.4028598 ]\n",
      " [ 0.10628311  0.07502243  0.74026704  1.8225049  -0.6481221   1.0641217 ]\n",
      " [ 0.4833503   1.1029056  -0.6806228   1.0114052   1.8130323  -1.7566729 ]\n",
      " [ 1.0728288  -1.2148598   0.5440315  -1.5604011  -0.37087864  0.2514362 ]\n",
      " [ 1.3076197   0.06487114 -0.5027632   0.28511557 -0.11419692 -1.3220891 ]]\n"
     ]
    }
   ],
   "source": [
    "print(e.numpy())"
   ],
   "metadata": {
    "collapsed": false
   }
  },
  {
   "cell_type": "markdown",
   "source": [
    "# Autograd -> this is used for computing Gradients and other backward propagation methods"
   ],
   "metadata": {
    "collapsed": false
   }
  },
  {
   "cell_type": "markdown",
   "source": [
    "# Creating a simple neural network"
   ],
   "metadata": {
    "collapsed": false
   }
  },
  {
   "cell_type": "markdown",
   "source": [
    "\n",
    "\n"
   ],
   "metadata": {
    "collapsed": false
   }
  },
  {
   "cell_type": "code",
   "execution_count": 22,
   "outputs": [],
   "source": [
    "import torch\n",
    "import torch.nn as nn\n",
    "import torch.nn.functional as F"
   ],
   "metadata": {
    "collapsed": false
   }
  },
  {
   "cell_type": "code",
   "execution_count": null,
   "outputs": [],
   "source": [
    "# a new class Net is created . It inherits from nn.Module class\n",
    "class Net(nn.Module):\n",
    "    def __int__(self):\n",
    "        super(Net, self).__init__()\n"
   ],
   "metadata": {
    "collapsed": false
   }
  }
 ],
 "metadata": {
  "kernelspec": {
   "display_name": "Python 3",
   "language": "python",
   "name": "python3"
  },
  "language_info": {
   "codemirror_mode": {
    "name": "ipython",
    "version": 2
   },
   "file_extension": ".py",
   "mimetype": "text/x-python",
   "name": "python",
   "nbconvert_exporter": "python",
   "pygments_lexer": "ipython2",
   "version": "2.7.6"
  }
 },
 "nbformat": 4,
 "nbformat_minor": 0
}
